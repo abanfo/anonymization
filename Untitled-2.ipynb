{
 "cells": [
  {
   "cell_type": "markdown",
   "metadata": {},
   "source": [
    "## import all the dataset and anonymize all the columns"
   ]
  },
  {
   "cell_type": "code",
   "execution_count": 1,
   "metadata": {},
   "outputs": [],
   "source": [
    "#import all the neccessary packages\n",
    "import pandas as pd\n",
    "import numpy as np\n",
    "import os\n",
    "import glob\n",
    "import sys\n"
   ]
  },
  {
   "cell_type": "markdown",
   "metadata": {},
   "source": [
    "# read multiple files and anonymize them"
   ]
  },
  {
   "cell_type": "code",
   "execution_count": 2,
   "metadata": {},
   "outputs": [
    {
     "name": "stdout",
     "output_type": "stream",
     "text": [
      "loading data3.csv\n",
      "{1: 'NL63GKBE5102907469', 2: 'NL61GRVL2701827349', 5: 'NL70QFIQ9734356611', 3: 'NL30UGFI1467561478', 4: 'NL65CCZQ0034189068', 0: 'NL55KNFQ8411987698'}\n",
      "loading data2.csv\n",
      "{1: 'NL63GKBE5102907469', 2: 'NL61GRVL2701827349', 5: 'NL70QFIQ9734356611', 3: 'NL30UGFI1467561478', 4: 'NL65CCZQ0034189068', 0: 'NL55KNFQ8411987698'}\n",
      "loading data1.csv\n",
      "{1: 'NL63GKBE5102907469', 2: 'NL61GRVL2701827349', 5: 'NL70QFIQ9734356611', 3: 'NL30UGFI1467561478', 4: 'NL65CCZQ0034189068', 0: 'NL55KNFQ8411987698'}\n"
     ]
    }
   ],
   "source": [
    "from anonymizedf.anonymizedf import anonymize\n",
    "# import all csv files in a directory\n",
    "seprator = \";\"\n",
    "from faker import Faker\n",
    "import random\n",
    "\n",
    "fake =Faker()\n",
    "fake.seed(4321)\n",
    "random.seed(4321)\n",
    "\n",
    "\n",
    "\n",
    "for one_filename in glob.glob(r'*.csv'):\n",
    "    print(f'loading {one_filename}')\n",
    "    try:\n",
    "        new_df = pd.read_csv(one_filename,delimiter=seprator)\n",
    "        # print(new_df)\n",
    "        an = anonymize(new_df)\n",
    "        fake_df = (\n",
    "            an\n",
    "            .fake_categy(\"omschrijving\",chaining=True)\n",
    "            .fake_rakening(\"rekening_nummer\", \"tegenrekening_nummer\", chaining=True)\n",
    "            .fake_categories(\"rekening_naam\", \"tegenrekening_naam\", chaining=True)\n",
    "            # .fake_categy(\"omschrijving\")\n",
    "            # .show_data_frame()\n",
    "        )\n",
    "        # print(one_filename)\n",
    "        fake_df.save(f\"ano_{one_filename}\")\n",
    "        \n",
    "    except  Exception as e:\n",
    "\n",
    "        print(\"Exception occurred for value '\"+ \"': \"+ str(e))\n",
    "\n",
    "    # all_dfs.append(new_df)\n",
    "# columns that exists in col_used but not in col_used_1\n",
    "# print(list(set(col_used_1).difference(col_used)))\n",
    "# print(sys.getsizeof(all_dfs))import pandas as pd\n",
    "# data1 = pd.read_csv(r\"C:\\Users\\afoto001.000\\Desktop\\All projects\\Audit solution\\Anonymization projects\\PAT\\PAT Client Test Data\\Client 1\\bank_betalingsanalyse_banktransacties.csv\",delimiter=\"|\")\n",
    "# data2 = pd.read_csv(r\"C:\\Users\\afoto001.000\\Desktop\\All projects\\Audit solution\\Anonymization projects\\PAT\\PAT Client Test Data\\Client 1\\batch_betalingsanalyse_batchtransacties.csv\",delimiter=\"|\")\n",
    "# data3 = pd.read_csv(r\"C:\\Users\\afoto001.000\\Desktop\\All projects\\Audit solution\\Anonymization projects\\PAT\\PAT Client Test Data\\Client 1\\cre_betalingsanalyse_crediteuren.csv\",delimiter=\"|\")\n",
    "# data4 = pd.read_csv(r\"C:\\Users\\afoto001.000\\Desktop\\All projects\\Audit solution\\Anonymization projects\\PAT\\PAT Client Test Data\\Client 1\\deb_betalingsanalyse_debiteuren.csv\",delimiter=\"|\")\n",
    "# data5 = pd.read_csv(r\"C:\\Users\\afoto001.000\\Desktop\\All projects\\Audit solution\\Anonymization projects\\PAT\\PAT Client Test Data\\Client 1\\emp_betalingsanalyse_medewerkers.csv\",delimiter=\"|\")\n",
    "\n"
   ]
  },
  {
   "cell_type": "code",
   "execution_count": null,
   "metadata": {},
   "outputs": [],
   "source": [
    "# all_dfs\n",
    "df = pd.concat(all_dfs)"
   ]
  },
  {
   "cell_type": "code",
   "execution_count": null,
   "metadata": {},
   "outputs": [],
   "source": [
    "df"
   ]
  },
  {
   "cell_type": "code",
   "execution_count": null,
   "metadata": {},
   "outputs": [],
   "source": [
    "\n",
    "print(data2.columns,data2.dtypes)"
   ]
  },
  {
   "cell_type": "markdown",
   "metadata": {},
   "source": [
    "## data1\n",
    "### quasi-identifiers\n",
    "- rekening_number (account number) -> DEUTSCHE BANK NEDERLAND N.V. (example: NL20DEUT0319815528)\n",
    "- rekening_naam (Account name) -> The Name of the client or account owner company (iven address of the company or location)\n",
    "- tegenrekening_nummer (counteraccount number\") -> This term is often used in banking and financial contexts to refer to the account number of a counterparty or a recipient when performing transactions, transfers, or payments.\n",
    "- tegenrekening_naam (counteraccount name)-> it refers to the name associated with the counteraccount or recipient's bank account when performing transactions, transfers, or payments.\n",
    "- omschrijving (description) -> info about banks (string of characters)\n",
    "### Not important columns\n",
    "- D/c -> empty\n",
    "- munteenheid\n",
    "- bedrag\n",
    "- categorie\n",
    "- bestandsnaam\n",
    "## Data2\n",
    "### quasi-identifiers\n",
    "- rekening_nummer -> empty column\n",
    "- rekening_naam -> empty column\n",
    "- tegenrekening_naam -> empty column\n",
    "- tegenrekening_nummer -> an attribute with string and integer values, (example: 9923635800,738-0156644-11, 000016200X95)\n",
    "- \n",
    "### Not important columns\n",
    "- Datum (date) \n",
    "- munteenheid\n",
    "- bedrag\n",
    "- D/C -> empty\n",
    "- omschrijving -> Just a whole number\n",
    "- categorie\n",
    "- bestandsnaam\n",
    "## Data 3\n",
    "### quasi-identifiers\n",
    "- id -> big whole number\n",
    "- company -> name of the company\n",
    "- Name -=> the name of the company (? what is the difference between company and name)\n",
    "- straat -> \n",
    "- stad -> city where the client is located\n",
    "- rekening -> just a whole number(? )\n",
    "\n",
    "### Not important columns\n",
    "- number -> house number, just a number\n",
    "- toevoeging -> empty\n",
    "- postcode -> just only number\n",
    "- indienst -> empty\n",
    "- uitdienst -> empty\n",
    "- categorie\n",
    "- bestandsnaam\n",
    "## Data 4\n",
    "### quasi-identifiers\n",
    "- id\n",
    "- company -> name of the company\n",
    "- naam -> (?)\n",
    "- straat\n",
    "- stad\n",
    "- rekening\n",
    "\n",
    "### Not important columns\n",
    "- nummer\n",
    "-  toevoeging -> empty\n",
    "- post code -> just a number\n",
    "- indienst -> empty\n",
    "- uitdienst -> empty\n",
    "- categorie\n",
    "- bestandsnaam\n",
    "## Data 5\n",
    "### quasi-identifiers\n",
    "- id\n",
    "- company\n",
    "-  naam\n",
    "- postcode\n",
    "- stad\n",
    "- rekening\n",
    "- \n",
    "### Not important columns\n",
    "-  nummer\n",
    "- toevoeging\n",
    "- indienst\n",
    "- uitdienst\n",
    "- categorie\n",
    "- bestandsnaam\n",
    "\n"
   ]
  },
  {
   "cell_type": "code",
   "execution_count": null,
   "metadata": {},
   "outputs": [],
   "source": []
  },
  {
   "cell_type": "code",
   "execution_count": null,
   "metadata": {},
   "outputs": [],
   "source": [
    "df = pd.concat([data1, data2,data3,data4,data5],ignore_index = True)"
   ]
  },
  {
   "cell_type": "code",
   "execution_count": null,
   "metadata": {},
   "outputs": [],
   "source": [
    "df"
   ]
  },
  {
   "cell_type": "code",
   "execution_count": null,
   "metadata": {},
   "outputs": [],
   "source": [
    "size_in_mb = df.memory_usage(deep=True).sum() / (1024 * 1024)\n",
    "print(\"Estimated DataFrame size:\", size_in_mb, \"MB\")"
   ]
  }
 ],
 "metadata": {
  "kernelspec": {
   "display_name": "env",
   "language": "python",
   "name": "python3"
  },
  "language_info": {
   "codemirror_mode": {
    "name": "ipython",
    "version": 3
   },
   "file_extension": ".py",
   "mimetype": "text/x-python",
   "name": "python",
   "nbconvert_exporter": "python",
   "pygments_lexer": "ipython3",
   "version": "3.11.0"
  },
  "orig_nbformat": 4
 },
 "nbformat": 4,
 "nbformat_minor": 2
}
